{
 "cells": [
  {
   "cell_type": "code",
   "execution_count": 1,
   "id": "208cace9",
   "metadata": {},
   "outputs": [
    {
     "ename": "ModuleNotFoundError",
     "evalue": "No module named 'pandas'",
     "output_type": "error",
     "traceback": [
      "\u001b[31m---------------------------------------------------------------------------\u001b[39m",
      "\u001b[31mModuleNotFoundError\u001b[39m                       Traceback (most recent call last)",
      "\u001b[36mCell\u001b[39m\u001b[36m \u001b[39m\u001b[32mIn[1]\u001b[39m\u001b[32m, line 2\u001b[39m\n\u001b[32m      1\u001b[39m \u001b[38;5;66;03m# 1️⃣ นำเข้าไลบรารี\u001b[39;00m\n\u001b[32m----> \u001b[39m\u001b[32m2\u001b[39m \u001b[38;5;28;01mimport\u001b[39;00m\u001b[38;5;250m \u001b[39m\u001b[34;01mpandas\u001b[39;00m\u001b[38;5;250m \u001b[39m\u001b[38;5;28;01mas\u001b[39;00m\u001b[38;5;250m \u001b[39m\u001b[34;01mpd\u001b[39;00m\n\u001b[32m      3\u001b[39m \u001b[38;5;28;01mimport\u001b[39;00m\u001b[38;5;250m \u001b[39m\u001b[34;01mmatplotlib\u001b[39;00m\u001b[34;01m.\u001b[39;00m\u001b[34;01mpyplot\u001b[39;00m\u001b[38;5;250m \u001b[39m\u001b[38;5;28;01mas\u001b[39;00m\u001b[38;5;250m \u001b[39m\u001b[34;01mplt\u001b[39;00m\n\u001b[32m      4\u001b[39m \u001b[38;5;28;01mfrom\u001b[39;00m\u001b[38;5;250m \u001b[39m\u001b[34;01msklearn\u001b[39;00m\u001b[34;01m.\u001b[39;00m\u001b[34;01mlinear_model\u001b[39;00m\u001b[38;5;250m \u001b[39m\u001b[38;5;28;01mimport\u001b[39;00m LinearRegression\n",
      "\u001b[31mModuleNotFoundError\u001b[39m: No module named 'pandas'"
     ]
    }
   ],
   "source": [
    "# 1️⃣ นำเข้าไลบรารี\n",
    "import pandas as pd\n",
    "import matplotlib.pyplot as plt\n",
    "from sklearn.linear_model import LinearRegression\n",
    "import joblib\n",
    "\n",
    "# 2️⃣ โหลดข้อมูล\n",
    "df = pd.read_csv(\"data/AAPL_daily.csv\", index_col=0)\n",
    "df[\"close\"] = df[\"4. close\"]\n",
    "df[\"day\"] = range(len(df))\n",
    "\n",
    "# 3️⃣ สร้างโมเดล Linear Regression\n",
    "X = df[[\"day\"]].values\n",
    "y = df[\"close\"].values\n",
    "model = LinearRegression()\n",
    "model.fit(X, y)\n",
    "\n",
    "# 4️⃣ ทำนายราคาวันถัดไป\n",
    "next_day = [[df[\"day\"].iloc[-1] + 1]]\n",
    "prediction = model.predict(next_day)[0]\n",
    "print(f\"🔮 ราคาที่คาดการณ์วันถัดไป: {prediction:.2f} USD\")\n",
    "\n",
    "# 5️⃣ แสดงกราฟ\n",
    "plt.figure(figsize=(10,5))\n",
    "plt.plot(df[\"day\"], df[\"close\"], label=\"ราคาจริง\", color=\"blue\")\n",
    "plt.plot(df[\"day\"], model.predict(X), label=\"แนวโน้ม Linear Regression\", color=\"red\")\n",
    "plt.scatter(next_day, prediction, color=\"green\", label=\"วันถัดไป (พยากรณ์)\")\n",
    "plt.xlabel(\"วัน (ลำดับ)\")\n",
    "plt.ylabel(\"ราคา (USD)\")\n",
    "plt.title(\"แนวโน้มราคาหุ้น AAPL\")\n",
    "plt.legend()\n",
    "plt.show()\n"
   ]
  }
 ],
 "metadata": {
  "kernelspec": {
   "display_name": "Python 3",
   "language": "python",
   "name": "python3"
  },
  "language_info": {
   "codemirror_mode": {
    "name": "ipython",
    "version": 3
   },
   "file_extension": ".py",
   "mimetype": "text/x-python",
   "name": "python",
   "nbconvert_exporter": "python",
   "pygments_lexer": "ipython3",
   "version": "3.13.5"
  }
 },
 "nbformat": 4,
 "nbformat_minor": 5
}
